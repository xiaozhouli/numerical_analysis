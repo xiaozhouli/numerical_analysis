{
 "cells": [
  {
   "cell_type": "markdown",
   "metadata": {},
   "source": [
    "# Solving Linear Systems: Direct Methods\n",
    "<a rel=\"license\" href=\"http://creativecommons.org/licenses/by/4.0/\"><img alt=\"Creative Commons License\" style=\"border-width:0\" src=\"https://i.creativecommons.org/l/by/4.0/80x15.png\" /></a><br />This notebook by Xiaozhou Li is licensed under a <a rel=\"license\" href=\"http://creativecommons.org/licenses/by/4.0/\">Creative Commons Attribution 4.0 International License</a>.  \n",
    "All code examples are also licensed under the [MIT license](http://opensource.org/licenses/MIT)."
   ]
  },
  {
   "cell_type": "code",
   "execution_count": 15,
   "metadata": {
    "pycharm": {
     "is_executing": false
    }
   },
   "outputs": [],
   "source": [
    "%matplotlib inline\n",
    "import numpy as np\n",
    "from scipy.linalg import lu"
   ]
  },
  {
   "cell_type": "markdown",
   "metadata": {},
   "source": [
    "## Gaussian Elimination\n",
    "\n",
    "The simplest version of Gaussian Elimination only involves two operations as follows:\n",
    "* Add or substrct a muliple of one equation from another.\n",
    "* Multiply an equation by a nonzero constant.\n",
    "\n",
    "### Solving a linear system by Gaussian elimination\n",
    "The general form of a linear system for $n$ equations in $n$ unknown can be wriiten as\n",
    "\\begin{equation}\n",
    "\\begin{pmatrix}{a_{11}} & {a_{12}} & {\\cdots} & {a_{1 n}} \\\\ {a_{21}} & {a_{22}} & {\\cdots} & {a_{2 n}} \\\\ {\\vdots} & {\\vdots} & {} & {\\vdots} \\\\ {a_{n 1}} & {a_{n 2}} & {\\cdots} & {a_{n n}}\\end{pmatrix}\\begin{pmatrix}{x_{1}} \\\\ {x_{2}} \\\\ {\\vdots} \\\\ {x_{n}}\\end{pmatrix}=\\begin{pmatrix}{b_{1}} \\\\ {b_{2}} \\\\ {\\vdots} \\\\ {b_{n}}\\end{pmatrix}\n",
    "\\end{equation}\n",
    "  \n",
    "To solve this linear system by Gaussian elimination \n",
    "1. Using the allowed row operations to eliminate the system to an upper triangular system\n",
    "\\begin{equation}\n",
    "\\begin{pmatrix}{a_{11}} & {a_{12}} & {\\cdots} & {a_{1 n}} & {b_{1}} \\\\ {} & {a_{22}^{(1)}} & {\\cdots} & {a_{2 n}^{(1)}} & {b_{2}^{(1)}} \\\\ {} & {} & {\\ddots} & {\\vdots} & {\\vdots} \\\\ {} & {} & {} & {a_{n n}^{(n-1)}} & {b_{n}^{(n-1)}}\\end{pmatrix}\n",
    "\\end{equation}\n",
    "2. Using the back substituion (backsolving) to solve the upper triangular system, \n",
    "\\begin{align}\n",
    "x_{n}=& \\frac{b_{n}^{(n-1)}}{a_{n-1}^{(n-1)}}  \\\\ x_{k}=& \\frac{b_{k}^{(k-1)}-\\sum_{j=k+1}^{n} a_{k j}^{(k-1)} x_{j} }{a_{k k}^{(k-1)}}, \\quad k=n-1, \\ldots, 1. \n",
    "\\end{align}\n",
    "Here, assuming $a^{(k-1)}_{kk} \\neq 0,\\,\\, k = 1,\\ldots,n$"
   ]
  },
  {
   "cell_type": "markdown",
   "metadata": {},
   "source": [
    "**Example**\n",
    "\n",
    "Using Gaussian elimination to solve the following linear system\n",
    "\\begin{align}\n",
    " 10^{-20}x_1 + x_2 & = 1 \\\\\n",
    " x_1 + 2x_2 & = 4\n",
    "\\end{align}\n",
    "The argumented matrix reads\n",
    "\\begin{pmatrix}\n",
    "10^{-20} & 1 & 1 \\\\\n",
    "1 & 2 & 4\n",
    "\\end{pmatrix}\n",
    "\n",
    "1. Elimination: $\\text{Row}_2 = \\text{Row}_2 - 10^{20}\\times\\text{Row}_1$ "
   ]
  },
  {
   "cell_type": "code",
   "execution_count": 16,
   "metadata": {
    "pycharm": {
     "is_executing": false
    }
   },
   "outputs": [
    {
     "name": "stdout",
     "output_type": "stream",
     "text": [
      "[ 0.e+00 -1.e+20 -1.e+20]\n"
     ]
    }
   ],
   "source": [
    "A = np.array([[1e-20, 1, 1], [1, 2, 4]])\n",
    "A[1] = A[1] - 10**20*A[0]\n",
    "print (A[1])"
   ]
  },
  {
   "cell_type": "markdown",
   "metadata": {},
   "source": [
    "2. The echelon form of the argumented matrix reads\n",
    "\\begin{pmatrix}\n",
    "10^{-20} & 1 & 1 \\\\\n",
    "0 & -10^{20} & -10^{20}\n",
    "\\end{pmatrix}\n",
    "3. Using the back substituion, the solution is \n",
    "$$ x_2 = 1,\\qquad x_1 = 0.$$"
   ]
  },
  {
   "cell_type": "markdown",
   "metadata": {},
   "source": [
    "## The $PA = LU$ factorization\n",
    "### Partial pivoting\n",
    "At the start of classical Gaussian elimination of $n$ equations in $n$ unknowns, the first step is to use the diagonal element $a_{11}$ as a pivot to eliminate the first column.  The partial pivoting protocol consists of comparing numbers before carrying out each elimination step. The largest entry of the first column is located, and its row is swapped with the pivot row, in this case the top row."
   ]
  },
  {
   "cell_type": "markdown",
   "metadata": {},
   "source": [
    "**Example**\n",
    "\n",
    "Solve the following linear system\n",
    "\\begin{align}\n",
    " 10^{-20}x_1 + x_2 & = 1 \\\\\n",
    " x_1 + 2x_2 & = 4\n",
    "\\end{align}\n",
    "\n",
    "The argumented matrix reads\n",
    "\\begin{pmatrix}\n",
    "10^{-20} & 1 & 1 \\\\\n",
    "1 & 2 & 4\n",
    "\\end{pmatrix}\n",
    "\n",
    "1. Interchange $\\text{Row}_1$ with $\\text{Row}_2$\n",
    "\\begin{pmatrix}\n",
    "1 & 2 & 4 \\\\\n",
    "10^{-20} & 1 & 1 \n",
    "\\end{pmatrix}\n",
    "2. Elimination: $\\text{Row}_2 = \\text{Row}_2 - 10^{-20}\\times\\text{Row}_1$ "
   ]
  },
  {
   "cell_type": "code",
   "execution_count": 17,
   "metadata": {},
   "outputs": [
    {
     "name": "stdout",
     "output_type": "stream",
     "text": [
      "[0. 1. 1.]\n"
     ]
    }
   ],
   "source": [
    "A = np.array([[1, 2, 4], [1e-20, 1, 1]])\n",
    "A[1] = A[1] - 10**(-20)*A[0]\n",
    "print (A[1])"
   ]
  },
  {
   "cell_type": "markdown",
   "metadata": {},
   "source": [
    "3. The echelon form of the argumented matrix reads\n",
    "\\begin{pmatrix}\n",
    "1 & 2 & 4 \\\\\n",
    "0 & 1 & 1\n",
    "\\end{pmatrix}\n",
    "4. Using the back substituion, the solution is \n",
    "$$ x_2 = 1,\\qquad x_1 = 2.$$"
   ]
  },
  {
   "cell_type": "markdown",
   "metadata": {},
   "source": [
    "* Solving this equation by the build-in linear solver in numpy:"
   ]
  },
  {
   "cell_type": "code",
   "execution_count": 18,
   "metadata": {},
   "outputs": [
    {
     "name": "stdout",
     "output_type": "stream",
     "text": [
      "[2. 1.]\n"
     ]
    }
   ],
   "source": [
    "A = np.array([[1e-20, 1], [1, 2]])\n",
    "b = np.array([1, 4])\n",
    "\n",
    "x = np.linalg.solve(A, b)\n",
    "print (x)"
   ]
  },
  {
   "cell_type": "markdown",
   "metadata": {},
   "source": [
    "### Implementation\n",
    "#### The $LU$ factorization"
   ]
  },
  {
   "cell_type": "code",
   "execution_count": 19,
   "metadata": {},
   "outputs": [],
   "source": [
    "def LU_factor(A):\n",
    "    A = A.astype(np.float)\n",
    "    print (A)\n",
    "    n = len(A)\n",
    "    for j in range(0,n-1):\n",
    "        if A[j,j] != 0:\n",
    "            for i in range(j+1,n):\n",
    "                lam = A[i,j]/A[j,j]\n",
    "                A[i,j+1:n] = A[i,j+1:n] - lam*A[j,j+1:n]\n",
    "                A[i,j] = lam\n",
    "    return A"
   ]
  },
  {
   "cell_type": "markdown",
   "metadata": {},
   "source": [
    "**Example**\n",
    "Find the LU factorization of matrix\n",
    "$$\n",
    "A=\\begin{pmatrix}{2} & {4} & {4} & {2} \\\\ {3} & {3} & {12} & {6} \\\\ {2} & {4} & {-1} & {2} \\\\ {4} & {2} & {1} & {1}\\end{pmatrix}\n",
    "$$\n",
    "and \n",
    "$$\n",
    "A=\\begin{pmatrix}{1} & {1} & {3} & {4} \\\\ {2} & {4} & {1} & {3} \\\\ {3} & {2} & {1} & {1} \\\\ {2} & {1} & {2} & {1}\\end{pmatrix}\n",
    "$$"
   ]
  },
  {
   "cell_type": "code",
   "execution_count": 20,
   "metadata": {},
   "outputs": [
    {
     "name": "stdout",
     "output_type": "stream",
     "text": [
      "[[ 2.  4.  4.  2.]\n",
      " [ 3.  3. 12.  6.]\n",
      " [ 2.  4. -1.  2.]\n",
      " [ 4.  2.  1.  1.]]\n",
      "[[ 2.   4.   4.   2. ]\n",
      " [ 1.5 -3.   6.   3. ]\n",
      " [ 1.  -0.  -5.   0. ]\n",
      " [ 2.   2.   3.8 -9. ]]\n"
     ]
    }
   ],
   "source": [
    "A = np.array([[2, 4, 4, 2], [3, 3, 12, 6], [2, 4, -1, 2], [4, 2, 1, 1]])\n",
    "print (LU_factor(A))"
   ]
  },
  {
   "cell_type": "code",
   "execution_count": 21,
   "metadata": {},
   "outputs": [
    {
     "name": "stdout",
     "output_type": "stream",
     "text": [
      "[[1. 1. 3. 4.]\n",
      " [2. 4. 1. 3.]\n",
      " [3. 2. 1. 1.]\n",
      " [2. 1. 2. 1.]]\n",
      "[[  1.           1.           3.           4.        ]\n",
      " [  2.           2.          -5.          -5.        ]\n",
      " [  3.          -0.5        -10.5        -13.5       ]\n",
      " [  2.          -0.5          0.61904762  -1.14285714]]\n"
     ]
    }
   ],
   "source": [
    "A = np.array([[1, 1, 3, 4], [2, 4, 1, 3], [3, 2, 1, 1], [2, 1, 2, 1]])\n",
    "print (LU_factor(A))"
   ]
  },
  {
   "cell_type": "markdown",
   "metadata": {},
   "source": [
    "#### The $PA = LU$ factorization"
   ]
  },
  {
   "cell_type": "markdown",
   "metadata": {},
   "source": [
    "All of the techniques described so far are implemented in Python (Scipy). The most sophisticated form of Gaussian elimination we have discussed is the $PA=LU$ (or $A = PLU$) factorization. Scipy package has the command accepts a square coefficient matrix $A$ and returns $P$ , $L$, and $U$, such that $A = PLU$."
   ]
  },
  {
   "cell_type": "code",
   "execution_count": 22,
   "metadata": {},
   "outputs": [
    {
     "name": "stdout",
     "output_type": "stream",
     "text": [
      "[[0. 0. 1.]\n",
      " [1. 0. 0.]\n",
      " [0. 1. 0.]]\n",
      "[[ 1.    0.    0.  ]\n",
      " [ 0.25  1.    0.  ]\n",
      " [ 0.5  -0.5   1.  ]]\n",
      "[[ 4.  4. -4.]\n",
      " [ 0.  2.  2.]\n",
      " [ 0.  0.  8.]]\n"
     ]
    }
   ],
   "source": [
    "from scipy.linalg import lu\n",
    "A = np.array([[2, 1, 5], [4, 4, -4], [1, 3, 1]])\n",
    "P, L, U = lu(A)\n",
    "print (P)\n",
    "print (L)\n",
    "print (U)"
   ]
  },
  {
   "cell_type": "code",
   "execution_count": 23,
   "metadata": {},
   "outputs": [
    {
     "name": "stdout",
     "output_type": "stream",
     "text": [
      "[[0. 0. 0. 1.]\n",
      " [0. 0. 1. 0.]\n",
      " [0. 1. 0. 0.]\n",
      " [1. 0. 0. 0.]]\n",
      "[[1.         0.         0.         0.        ]\n",
      " [0.5        1.         0.         0.        ]\n",
      " [0.75       0.5        1.         0.        ]\n",
      " [0.5        1.         0.41666667 1.        ]]\n",
      "[[ 4.     2.     1.     1.   ]\n",
      " [ 0.     3.    -1.5    1.5  ]\n",
      " [ 0.     0.    12.     4.5  ]\n",
      " [ 0.     0.     0.    -1.875]]\n"
     ]
    }
   ],
   "source": [
    "A = np.array([[2, 4, 4, 2], [3, 3, 12, 6], [2, 4, -1, 2], [4, 2, 1, 1]])\n",
    "P, L, U = lu(A)\n",
    "print (P)\n",
    "print (L)\n",
    "print (U)"
   ]
  },
  {
   "cell_type": "code",
   "execution_count": 24,
   "metadata": {},
   "outputs": [
    {
     "name": "stdout",
     "output_type": "stream",
     "text": [
      "[[0. 0. 0. 0.]\n",
      " [0. 0. 0. 0.]\n",
      " [0. 0. 0. 0.]\n",
      " [0. 0. 0. 0.]]\n"
     ]
    }
   ],
   "source": [
    "print (np.dot(P, np.dot(L, U)) - A)"
   ]
  },
  {
   "cell_type": "markdown",
   "metadata": {},
   "source": [
    "## Erros, Conditions Number"
   ]
  },
  {
   "cell_type": "markdown",
   "metadata": {},
   "source": [
    "**Example** (Hilbert Matrix)\n",
    "\n",
    "The $n\\times n$ Hilbert Matrix $H_n$ is defined as follows:\n",
    "$$\n",
    "H_n = \\begin{pmatrix}{1} & {1 / 2} & {1 / 3} & {\\cdots} & {1 / n} \\\\ {1 / 2} & {1 / 3} & {1 / 4} & {\\cdots} & {1 /(n+1)} \\\\ {1 / 3} & {1 / 4} & {1 / 5} & {\\cdots} & {1 /(n+2)} \\\\ {\\cdots} & {\\cdots} & {\\cdots} & {\\cdots} & {\\cdots} \\\\ {1 / n} & {1 /(n+1)} & {1 /(n+2)} & {\\cdots} & {1 /(2 n-1)}\\end{pmatrix}\n",
    "$$\n",
    "\n",
    "Solving the linear system  \n",
    "$$ H_n x = b$$\n",
    "with \n",
    "$$ b = H_n \\cdot\\begin{pmatrix}1 \\\\ 1 \\\\ \\vdots \\\\ 1\\end{pmatrix} $$\n",
    "for $n = 5, 10, 20$\n",
    "* The exact solution is $x = \\begin{pmatrix}1 \\\\ 1 \\\\ \\vdots \\\\ 1\\end{pmatrix} $"
   ]
  },
  {
   "cell_type": "code",
   "execution_count": 25,
   "metadata": {},
   "outputs": [],
   "source": [
    "def hil(n):\n",
    "    A = np.empty([n, n])\n",
    "    for i in range(n):\n",
    "        for j in range(n):\n",
    "            A[i,j] = 1/(i+j+1)\n",
    "    return A\n",
    "\n",
    "def hil_example(n):\n",
    "    A = hil(n)\n",
    "    x_exact = np.zeros(n) + 1.\n",
    "    b = np.dot(A, x_exact)\n",
    "    x = np.linalg.solve(A, b)\n",
    "    \n",
    "    print (\"The Hilbert Example\")\n",
    "    print (\"Exact Solution: \", x_exact)\n",
    "    print (\"Numerical Solution: \", x)\n",
    "    print (\"Max Norm Error: \", np.max(x_exact - x))"
   ]
  },
  {
   "cell_type": "code",
   "execution_count": 26,
   "metadata": {},
   "outputs": [
    {
     "name": "stdout",
     "output_type": "stream",
     "text": [
      "The Hilbert Example\n",
      "Exact Solution:  [1. 1. 1. 1. 1. 1. 1. 1. 1. 1. 1. 1. 1. 1. 1. 1. 1. 1. 1. 1. 1. 1. 1. 1.\n",
      " 1. 1. 1. 1. 1. 1.]\n",
      "Numerical Solution:  [  0.99999999   1.00000549   0.9995934    1.01063208   0.86492543\n",
      "   1.95654753  -2.98980522  10.66985353 -10.64549422   1.40496892\n",
      "  15.91216488  -9.67086839  -3.19672645   5.14709635  -5.92419006\n",
      "  16.63359268   3.83136369 -13.36494379  -3.48351104  -2.37205148\n",
      "  14.37850702  22.52283623 -37.62581185  20.90624367  -8.37575394\n",
      "   1.62476071  10.16821532  -4.99742976   1.20141018   1.41386896]\n",
      "Max Norm Error:  38.62581184885538\n"
     ]
    }
   ],
   "source": [
    "n = 30\n",
    "#A = hil(n)\n",
    "#print (A, '\\n')\n",
    "\n",
    "hil_example(n)"
   ]
  },
  {
   "cell_type": "code",
   "execution_count": 27,
   "metadata": {},
   "outputs": [
    {
     "name": "stdout",
     "output_type": "stream",
     "text": [
      "6.598338740631285e+18\n"
     ]
    }
   ],
   "source": [
    "#n = 5\n",
    "A = hil(n)\n",
    "print (np.linalg.cond(A, np.inf))"
   ]
  },
  {
   "cell_type": "markdown",
   "metadata": {},
   "source": [
    "**Example**\n",
    "\n",
    "Solve the following linear system\n",
    "\\begin{align}\n",
    " (1 + 10^{-20})x_1 + x_2 & = 2 + 10^{-20} \\\\\n",
    " x_1 + x_2 & = 2\n",
    "\\end{align}"
   ]
  },
  {
   "cell_type": "code",
   "execution_count": 28,
   "metadata": {},
   "outputs": [
    {
     "name": "stdout",
     "output_type": "stream",
     "text": [
      "[0. 2.]\n"
     ]
    }
   ],
   "source": [
    "A = np.array([[1e-20, 1], [1, 1]])\n",
    "b = np.array([2+1e-20, 2])\n",
    "\n",
    "x = np.linalg.solve(A, b)\n",
    "print (x)"
   ]
  },
  {
   "cell_type": "code",
   "execution_count": null,
   "metadata": {},
   "outputs": [],
   "source": []
  }
 ],
 "metadata": {
  "kernelspec": {
   "display_name": "Python 3",
   "language": "python",
   "name": "python3"
  },
  "language_info": {
   "codemirror_mode": {
    "name": "ipython",
    "version": 3
   },
   "file_extension": ".py",
   "mimetype": "text/x-python",
   "name": "python",
   "nbconvert_exporter": "python",
   "pygments_lexer": "ipython3",
   "version": "3.7.5"
  }
 },
 "nbformat": 4,
 "nbformat_minor": 4
}
