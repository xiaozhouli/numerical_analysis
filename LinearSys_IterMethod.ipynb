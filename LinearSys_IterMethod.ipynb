{
 "cells": [
  {
   "cell_type": "markdown",
   "metadata": {},
   "source": [
    "# Solving Linear Systems: Iterative Methods\n",
    "<a rel=\"license\" href=\"http://creativecommons.org/licenses/by/4.0/\"><img alt=\"Creative Commons License\" style=\"border-width:0\" src=\"https://licensebuttons.net/l/by/4.0/80x15.png\" /></a><br />This notebook by Xiaozhou Li is licensed under a <a rel=\"license\" href=\"http://creativecommons.org/licenses/by/4.0/\">Creative Commons Attribution 4.0 International License</a>.  \n",
    "All code examples are also licensed under the [MIT license](http://opensource.org/licenses/MIT)."
   ]
  },
  {
   "cell_type": "markdown",
   "metadata": {},
   "source": [
    "## General Form \n",
    "For solving the linear system\n",
    "$$\n",
    "    Ax = b,\n",
    "$$\n",
    "with the exact solution $x^{*}$.  The general form based on the fixed point interation:\n",
    "\\begin{equation}\n",
    "     \\begin{split}\n",
    "          x^{(0)} & = \\text{initial guess} \\\\\n",
    "          x^{(k+1)} & = g(x^{(k)}) \\quad k = 0,1,2,\\ldots,\n",
    "     \\end{split}\n",
    "\\end{equation}\n",
    "where\n",
    "$$\n",
    "    g(x) = x - C(Ax - b).\n",
    "$$\n",
    "Difficult: find a matrix $C$ such that \n",
    "$$\n",
    "    \\lim\\limits_{k\\rightarrow\\infty}x^{(k)} = x^{*}\n",
    "$$\n",
    "and the algorithm needs to be converge fast and economy. "
   ]
  },
  {
   "cell_type": "markdown",
   "metadata": {},
   "source": [
    "**Example 1**\n",
    "\\begin{equation*}\n",
    "    A = \\left[\\begin{array}{ccc} 9& -1 & -1 \\\\ -1 & 10 & -1 \\\\ -1 & -1& 15\\end{array}\\right],\\quad b = \\left[\\begin{array}{c} 7 \\\\ 8 \\\\ 13\\end{array}\\right],\n",
    "\\end{equation*}\n",
    "has the exact solution $x^{*} = {[1, 1, 1]}^T$"
   ]
  },
  {
   "cell_type": "code",
   "execution_count": 1,
   "metadata": {},
   "outputs": [],
   "source": [
    "import numpy as np\n",
    "%matplotlib inline\n",
    "%config InlineBackend.figure_format = 'retina'\n",
    "import matplotlib.pyplot as plt\n",
    "plt.rcParams['axes.unicode_minus']=False\n",
    "from ipywidgets import interact, interactive, fixed, interact_manual\n",
    "import ipywidgets as widgets\n",
    "from IPython.display import clear_output, display"
   ]
  },
  {
   "cell_type": "code",
   "execution_count": 2,
   "metadata": {},
   "outputs": [],
   "source": [
    "def IterC(A, b, C, x0, x_star, iters):\n",
    "    x = np.copy(x0)\n",
    "    print ('Iteration No.     Numerical Solution     Max norm error ')\n",
    "    print (0, x, np.linalg.norm(x_star-x, np.inf))\n",
    "    for i in range(iters):\n",
    "        x = x + np.dot(C, b - np.dot(A,x))\n",
    "        print (i+1, x, np.linalg.norm(x_star-x,np.inf))"
   ]
  },
  {
   "cell_type": "code",
   "execution_count": 3,
   "metadata": {},
   "outputs": [],
   "source": [
    "A = np.array([[9., -1., -1.],[-1.,10.,-1.],[-1.,-1.,15.]])\n",
    "b = np.array([7.,8.,13.])"
   ]
  },
  {
   "cell_type": "markdown",
   "metadata": {},
   "source": [
    "**Naive Choice** \n",
    "\n",
    "Choosing $C = I$, then \n",
    "$$g(x) = x - (Ax - b),$$\n",
    "and the fixed-point iteration\n",
    "$$x^{(k+1)}  = (I - A)x^{(k)} + b \\quad k = 0,1,2,\\ldots. $$\n",
    "Let the intial guess $x_0 = [0, 0, 0]^T$."
   ]
  },
  {
   "cell_type": "code",
   "execution_count": 4,
   "metadata": {},
   "outputs": [
    {
     "data": {
      "application/vnd.jupyter.widget-view+json": {
       "model_id": "ccf5efe0dbe4461d8aa0b562813c57cf",
       "version_major": 2,
       "version_minor": 0
      },
      "text/plain": [
       "interactive(children=(IntSlider(value=0, description='iters', max=20), Output()), _dom_classes=('widget-intera…"
      ]
     },
     "metadata": {},
     "output_type": "display_data"
    }
   ],
   "source": [
    "C = np.eye(3)\n",
    "x0 = np.zeros(3)\n",
    "x_star = np.array([1.,1.,1.])\n",
    "\n",
    "w = interactive(IterC, A=fixed(A), b=fixed(b), C=fixed(C), x0=fixed(x0), x_star=fixed(x_star), iters=widgets.IntSlider(min=0,max=20,value=0))\n",
    "display(w)"
   ]
  },
  {
   "cell_type": "markdown",
   "metadata": {},
   "source": [
    "**Best Choice (theoretically)** \n",
    "\n",
    "Choosing $C = A^{-1}$, then \n",
    "$$g(x) = x - A^{-1}(Ax - b),$$\n",
    "and the fixed-point iteration\n",
    "$$x^{(k+1)}  = A^{-1}b \\quad k = 0,1,2,\\ldots. $$\n",
    "\n",
    "* It equals to solve $Ax = b$ directly.\n",
    "* However, it gives a hint that $C$ should be close to $A^{-1}$"
   ]
  },
  {
   "cell_type": "markdown",
   "metadata": {},
   "source": [
    "## Some Classic Iterative Methods\n",
    "\n",
    "Let $D$ denote the main diagonal of $A$, $L$ denote the lower triangle of $A$ (entries below the main diagonal), and $U$ denote the upper triangle (entries above the main diagonal). Then, we have $A = L + D + U$\n",
    "\\begin{equation}\n",
    "A = \\begin{pmatrix}{a_{11}} & {a_{12}} & {\\cdots} & {a_{1 n}} \\\\ {a_{21}} & {a_{22}} & {\\cdots} & {a_{2 n}} \\\\ {\\vdots} & {\\vdots} & {} & {\\vdots} \\\\ {a_{n 1}} & {a_{n 2}} & {\\cdots} & {a_{n n}}\\end{pmatrix},\\,\\,D = \\begin{pmatrix}{a_{11}} & {} & {} & {} \\\\ {} & {a_{22}} & {} & {} \\\\ {} & {} & {\\ddots} & {} \\\\ {} & {} & {} & {a_{n n}}\\end{pmatrix},\\,\\, L= \\begin{pmatrix}{0} & {} & {} & {} \\\\ {a_{21}} & {\\ddots} & {} & {} \\\\ {\\vdots} & {\\ddots} & {0} & {} \\\\ {a_{n 1}} & {\\cdots} & {a_{n, n-1}} & {0}\\end{pmatrix},\\,\\, U= \\begin{pmatrix}{0} & {a_{12}} & {\\cdots} & {a_{1n}} \\\\ {} & {0} & {\\ddots} & {\\vdots} \\\\ {} & {} & {\\ddots} & {a_{n-1,n}} \\\\ {} & {} & {} & {0}\\end{pmatrix}\n",
    "\\end{equation}"
   ]
  },
  {
   "cell_type": "markdown",
   "metadata": {},
   "source": [
    "**First Approach** \n",
    "\n",
    "Choosing $C = \\text{diag}(A)^{-1} = D^{-1}$, then \n",
    "$$g(x) = x - D^{-1}(Ax - b),$$\n",
    "and the fixed-point iteration\n",
    "$$Dx^{(k+1)}  = -(L + U)x^{(k)} + b \\quad k = 0,1,2,\\ldots. $$"
   ]
  },
  {
   "cell_type": "code",
   "execution_count": 5,
   "metadata": {},
   "outputs": [],
   "source": [
    "C = np.diag(1./np.diag(A))\n",
    "x0 = np.zeros(np.size(b))\n",
    "x_star = np.array([1.,1.,1.])"
   ]
  },
  {
   "cell_type": "code",
   "execution_count": 6,
   "metadata": {},
   "outputs": [
    {
     "data": {
      "application/vnd.jupyter.widget-view+json": {
       "model_id": "2c8fae1c1cb346f984692ab4c47be4a0",
       "version_major": 2,
       "version_minor": 0
      },
      "text/plain": [
       "interactive(children=(IntSlider(value=0, description='iters', max=20), Output()), _dom_classes=('widget-intera…"
      ]
     },
     "metadata": {},
     "output_type": "display_data"
    }
   ],
   "source": [
    "w = interactive(IterC, A=fixed(A), b=fixed(b), C=fixed(C), x0=fixed(x0), x_star=fixed(x_star), iters=widgets.IntSlider(min=0,max=20,value=0))\n",
    "display(w)"
   ]
  },
  {
   "cell_type": "markdown",
   "metadata": {},
   "source": [
    "## Jacobi Method\n",
    "### Matrix Form:\n",
    "$$\n",
    "    x^{(k+1)} = x^{(k)} - D^{-1}(Ax^{(k)} - b)\n",
    "$$\n",
    "or\n",
    "$$\n",
    "    Dx^{(k+1)} = b - (L+U)x^{(k)}\n",
    "$$\n",
    "### Algorithm\n",
    "$$\n",
    "    x^{(k+1)}_i = \\frac{b_i - \\sum\\limits_{j < i}a_{ij}x^{(k)}_j - \\sum\\limits_{j > i}a_{ij}x^{(k)}_j}{a_{ii}}\n",
    "$$"
   ]
  },
  {
   "cell_type": "code",
   "execution_count": 7,
   "metadata": {},
   "outputs": [],
   "source": [
    "def Jacobi(A, b, x0, x_star, iters):\n",
    "    x_old = np.copy(x0)\n",
    "    x_new = np.zeros(np.size(x0))\n",
    "    print (0, x_old, np.linalg.norm(x_star-x_old,np.inf))\n",
    "    for k in range(iters):\n",
    "        for i in range(np.size(x0)): \n",
    "            x_new[i] = (b[i] - np.dot(A[i,:i],x_old[:i]) - np.dot(A[i,i+1:],x_old[i+1:]))/A[i,i]\n",
    "        print (k+1, x_new, np.linalg.norm(x_star-x_new,np.inf))\n",
    "        x_old = np.copy(x_new)"
   ]
  },
  {
   "cell_type": "code",
   "execution_count": 8,
   "metadata": {},
   "outputs": [
    {
     "data": {
      "application/vnd.jupyter.widget-view+json": {
       "model_id": "10bb09f9353c4df5953e391c669119b5",
       "version_major": 2,
       "version_minor": 0
      },
      "text/plain": [
       "interactive(children=(IntSlider(value=0, description='iters', max=20), Output()), _dom_classes=('widget-intera…"
      ]
     },
     "metadata": {},
     "output_type": "display_data"
    }
   ],
   "source": [
    "w = interactive(Jacobi, A=fixed(A), b=fixed(b), x0=fixed(x0), x_star=fixed(x_star), iters=widgets.IntSlider(min=0,max=20,value=0))\n",
    "display(w)"
   ]
  },
  {
   "cell_type": "markdown",
   "metadata": {},
   "source": [
    "**Second Approach** \n",
    "\n",
    "Let $D$ denote the main diagonal of $A$, $L$ denote the lower triangle of $A$ (entries below the main diagonal), and $U$ denote the upper triangle (entries above the main diagonal). Then $A = L + D + U$\n",
    "\n",
    "Choosing $C = (L + D)^{-1}$, then \n",
    "$$g(x) = x - (L + D)^{-1}(Ax - b),$$\n",
    "and the fixed-point iteration\n",
    "$$(L + D)x^{(k+1)}  = Ux^{(k)} + b \\quad k = 0,1,2,\\ldots. $$"
   ]
  },
  {
   "cell_type": "code",
   "execution_count": 9,
   "metadata": {},
   "outputs": [],
   "source": [
    "def GS(A, b, x0, x_star, iters):\n",
    "    x = np.copy(x0)\n",
    "    print (0, x, np.linalg.norm(x_star-x,np.inf))\n",
    "    for k in range(iters):\n",
    "        for i in range(np.size(x0)): \n",
    "            x[i] = (b[i] - np.dot(A[i,:i],x[:i]) - np.dot(A[i,i+1:],x[i+1:]))/A[i,i]\n",
    "        print (k+1, x, np.linalg.norm(x_star-x,np.inf))"
   ]
  },
  {
   "cell_type": "code",
   "execution_count": 10,
   "metadata": {},
   "outputs": [
    {
     "data": {
      "application/vnd.jupyter.widget-view+json": {
       "model_id": "4adb5c0af8f94494b64e0bcf4c772457",
       "version_major": 2,
       "version_minor": 0
      },
      "text/plain": [
       "interactive(children=(IntSlider(value=0, description='iters', max=20), Output()), _dom_classes=('widget-intera…"
      ]
     },
     "metadata": {},
     "output_type": "display_data"
    }
   ],
   "source": [
    "w = interactive(GS, A=fixed(A), b=fixed(b), x0=fixed(x0), x_star=fixed(x_star), iters=widgets.IntSlider(min=0,max=20,value=0))\n",
    "display(w)"
   ]
  },
  {
   "cell_type": "markdown",
   "metadata": {},
   "source": [
    "## Gauss-Seidel Method\n",
    "### Algorithm\n",
    "$$\n",
    "    x^{(k+1)}_i = \\frac{b_i - \\sum\\limits_{j < i}a_{ij}x^{(k+1)}_j - \\sum\\limits_{j > i}a_{ij}x^{(k)}_j}{a_{ii}}\n",
    "$$\n",
    "### Matrix Form:\n",
    "$$\n",
    "    x^{(k+1)} = x^{(k)} - (L+D)^{-1}(Ax^{(k)} - b)\n",
    "$$\n",
    "or\n",
    "$$\n",
    "    (L+D)x^{(k+1)} = b - Ux^{(k)}\n",
    "$$"
   ]
  },
  {
   "cell_type": "markdown",
   "metadata": {},
   "source": [
    "**Example 2**\n",
    "\\begin{equation*}\n",
    "    A = \\left[\\begin{array}{ccc} 3& 1 & -1 \\\\ 2 & 4 & 1 \\\\ -1 & 2& 5\\end{array}\\right],\\quad b = \\left[\\begin{array}{c} 4 \\\\ 1 \\\\ 1\\end{array}\\right],\n",
    "\\end{equation*}\n",
    "has the exact solution $x^{*} = {[2, -1, 1]}^T$"
   ]
  },
  {
   "cell_type": "code",
   "execution_count": 11,
   "metadata": {},
   "outputs": [],
   "source": [
    "A = np.array([[3, 1, -1],[2,4,1],[-1,2,5]])\n",
    "b = np.array([4,1,1])\n",
    "\n",
    "x0 = np.zeros(np.size(b))\n",
    "x_star = np.array([2.,-1.,1.])"
   ]
  },
  {
   "cell_type": "code",
   "execution_count": 12,
   "metadata": {},
   "outputs": [
    {
     "data": {
      "application/vnd.jupyter.widget-view+json": {
       "model_id": "6c9647cd76494d3896deca6011d54c69",
       "version_major": 2,
       "version_minor": 0
      },
      "text/plain": [
       "interactive(children=(IntSlider(value=0, description='iters', max=40), Output()), _dom_classes=('widget-intera…"
      ]
     },
     "metadata": {},
     "output_type": "display_data"
    }
   ],
   "source": [
    "w = interactive(GS, A=fixed(A), b=fixed(b), x0=fixed(x0), x_star=fixed(x_star), iters=widgets.IntSlider(min=0,max=40,value=0))\n",
    "display(w)"
   ]
  },
  {
   "cell_type": "markdown",
   "metadata": {},
   "source": [
    "**Example 3**\n",
    "\\begin{equation*}\n",
    "    A = \\left[\\begin{array}{ccc} 1& 2 & -2 \\\\ 1 & 1 & 1 \\\\ 2 & 2& 1\\end{array}\\right],\\quad b = \\left[\\begin{array}{c} 7 \\\\ 8 \\\\ 13\\end{array}\\right],\n",
    "\\end{equation*}\n",
    "has the exact solution $x^{*} = {[-3, 8, 3]}^T$"
   ]
  },
  {
   "cell_type": "code",
   "execution_count": 13,
   "metadata": {},
   "outputs": [
    {
     "data": {
      "application/vnd.jupyter.widget-view+json": {
       "model_id": "b31dff4885844bdba6976e912c514317",
       "version_major": 2,
       "version_minor": 0
      },
      "text/plain": [
       "interactive(children=(IntSlider(value=0, description='iters', max=20), Output()), _dom_classes=('widget-intera…"
      ]
     },
     "metadata": {},
     "output_type": "display_data"
    }
   ],
   "source": [
    "A = np.array([[1, 2, -2],[1,1,1],[2,2,1]])\n",
    "b = np.array([7,8,13])\n",
    "\n",
    "#x0 = np.zeros(np.size(b))\n",
    "x0 = np.array([-1,1,1])\n",
    "x_star = np.array([-3.,8.,3.])\n",
    "\n",
    "w = interactive(GS, A=fixed(A), b=fixed(b), x0=fixed(x0), x_star=fixed(x_star), iters=widgets.IntSlider(min=0,max=20,value=0))\n",
    "display(w)"
   ]
  },
  {
   "cell_type": "code",
   "execution_count": 14,
   "metadata": {},
   "outputs": [
    {
     "name": "stdout",
     "output_type": "stream",
     "text": [
      "[[ 0. -2.  2.]\n",
      " [-1.  0. -1.]\n",
      " [-2. -2.  0.]]\n",
      "(array([-6.16610918e-06+1.06799587e-05j, -6.16610918e-06-1.06799587e-05j,\n",
      "        1.23322184e-05+0.00000000e+00j]), array([[-0.57734849-6.16605800e-06j, -0.57734849+6.16605800e-06j,\n",
      "         0.57735383+0.00000000e+00j],\n",
      "       [ 0.57735027+3.08300999e-06j,  0.57735027-3.08300999e-06j,\n",
      "        -0.57735027+0.00000000e+00j],\n",
      "       [ 0.57735205+0.00000000e+00j,  0.57735205-0.00000000e+00j,\n",
      "        -0.57734671+0.00000000e+00j]]))\n"
     ]
    }
   ],
   "source": [
    "B = np.eye(3) - np.dot(np.diag(1./np.diag(A)),A)\n",
    "print(B)\n",
    "print (np.linalg.eig(B))"
   ]
  },
  {
   "cell_type": "markdown",
   "metadata": {},
   "source": [
    "**Example 4**\n",
    "\\begin{equation*}\n",
    "    A = \\left[\\begin{array}{cc} 1& 2 \\\\ 3 & 1 \\end{array}\\right],\\quad b = \\left[\\begin{array}{c} 5 \\\\ 5\\end{array}\\right],\n",
    "\\end{equation*}\n",
    "has the exact solution $x^{*} = {[1, 2]}^T$\n"
   ]
  },
  {
   "cell_type": "markdown",
   "metadata": {},
   "source": [
    "or\n",
    "\\begin{equation*}\n",
    "    A = \\left[\\begin{array}{cc} 3& 1 \\\\ 1 & 2 \\end{array}\\right],\\quad b = \\left[\\begin{array}{c} 5 \\\\ 5\\end{array}\\right],\n",
    "\\end{equation*}"
   ]
  },
  {
   "cell_type": "code",
   "execution_count": 15,
   "metadata": {},
   "outputs": [
    {
     "data": {
      "application/vnd.jupyter.widget-view+json": {
       "model_id": "dfa2956b2884485496b92ddf4d8509f7",
       "version_major": 2,
       "version_minor": 0
      },
      "text/plain": [
       "interactive(children=(IntSlider(value=0, description='iters', max=20), Output()), _dom_classes=('widget-intera…"
      ]
     },
     "metadata": {},
     "output_type": "display_data"
    }
   ],
   "source": [
    "#A = np.array([[1, 2],[3,1]])\n",
    "A = np.array([[3, 1],[1,2]])\n",
    "b = np.array([5,5])\n",
    "\n",
    "#x0 = np.zeros(np.size(b))\n",
    "x0 = np.array([0,0])\n",
    "x_star = np.array([1.,2.,])\n",
    "\n",
    "w = interactive(GS, A=fixed(A), b=fixed(b), x0=fixed(x0), x_star=fixed(x_star), iters=widgets.IntSlider(min=0,max=20,value=0))\n",
    "display(w)"
   ]
  },
  {
   "cell_type": "markdown",
   "metadata": {},
   "source": [
    "**Example 5**\n",
    "Are Jacobi iteration and Gauss-Seidel iteration convergent for the following equations?\n",
    "\\begin{equation*}\n",
    "    A_1 = \\left[\\begin{array}{ccc} 3& 0 & 4 \\\\ 7 & 4 & 2 \\\\ -1 & 1 & 2\\end{array}\\right],\\quad A_2 = \\left[\\begin{array}{ccc} -3& 3 & -6 \\\\ -4 & 7 & -8 \\\\ 5 & 7 & -9\\end{array}\\right],\n",
    "\\end{equation*}"
   ]
  },
  {
   "cell_type": "markdown",
   "metadata": {},
   "source": [
    "* Consider the **spectral radius** of the iterative matrix\n",
    "* $B_J = -D^{-1}(L+U)$ and $B_{GS} = -(L+D)^{-1}U$"
   ]
  },
  {
   "cell_type": "code",
   "execution_count": 16,
   "metadata": {},
   "outputs": [
    {
     "name": "stdout",
     "output_type": "stream",
     "text": [
      "Spectral Radius\n",
      "Jacobi:  0.8133091054692768\n",
      "Gauss Sediel:  1.1111111111111105\n"
     ]
    }
   ],
   "source": [
    "def Is_Jacobi_Gauss(A):\n",
    "    L = np.tril(A,-1)\n",
    "    U = np.triu(A,1)\n",
    "    D = np.diag(np.diag(A))\n",
    "    \n",
    "    B_J = np.dot(np.diag(1./np.diag(A)), L+U)\n",
    "    B_GS = np.dot(np.linalg.inv(L+D),U)\n",
    "    \n",
    "    rho_J = np.linalg.norm(np.linalg.eigvals(B_J), np.inf)\n",
    "    rho_GS = np.linalg.norm(np.linalg.eigvals(B_GS), np.inf)\n",
    "    \n",
    "    print (\"Spectral Radius\")\n",
    "    print (\"Jacobi: \", rho_J)\n",
    "    print (\"Gauss Sediel: \", rho_GS)\n",
    "    \n",
    "A1 = np.array([[3, 0, 4],[7, 4, 2], [-1,1,2]])\n",
    "A2 = np.array([[-3, 3, -6], [-4, 7, -8], [5, 7, -9]])\n",
    "Is_Jacobi_Gauss(A2)"
   ]
  },
  {
   "cell_type": "markdown",
   "metadata": {},
   "source": [
    "## Successive Over-Relaxation (SOR)\n",
    "### Algorithm\n",
    "$$\n",
    "    x^{(k+1)}_i = x^{(k)} + \\omega \\frac{b_i - \\sum\\limits_{j < i}a_{ij}x^{(k+1)}_j - \\sum\\limits_{j \\geq i}a_{ij}x^{(k)}_j}{a_{ii}}\n",
    "$$\n",
    "### Matrix Form:\n",
    "$$\n",
    "    x^{(k+1)} = x^{(k)} - \\omega(\\omega L+D)^{-1}(Ax^{(k)} - b)\n",
    "$$\n",
    "or\n",
    "$$\n",
    "    (\\omega L+D)x^{(k+1)} = ((1-\\omega)D - \\omega U)x^{(k)} + \\omega b\n",
    "$$"
   ]
  },
  {
   "cell_type": "code",
   "execution_count": 17,
   "metadata": {},
   "outputs": [],
   "source": [
    "def SOR(A, b, x0, x_star, omega, iters):\n",
    "    x = np.copy(x0)\n",
    "    print (0, x, np.linalg.norm(x_star-x,np.inf))\n",
    "    for k in range(iters):\n",
    "        for i in range(np.size(x0)): \n",
    "            x[i] = x[i] + omega*(b[i] - np.dot(A[i,:i],x[:i]) - np.dot(A[i,i:],x[i:]))/A[i,i]\n",
    "        print (k+1, x, np.linalg.norm(x_star-x,np.inf))"
   ]
  },
  {
   "cell_type": "code",
   "execution_count": 18,
   "metadata": {},
   "outputs": [],
   "source": [
    "def SOR2(A, b, x0, x_star, omega, iters):\n",
    "    x = np.copy(x0)\n",
    "    for k in range(iters):\n",
    "        for i in range(np.size(x0)): \n",
    "            x[i] = x[i] + omega*(b[i] - np.dot(A[i,:i],x[:i]) - np.dot(A[i,i:],x[i:]))/A[i,i]\n",
    "    return (np.linalg.norm(x_star-x,np.inf))"
   ]
  },
  {
   "cell_type": "code",
   "execution_count": 19,
   "metadata": {},
   "outputs": [],
   "source": [
    "def SOR3(A, b, x0, x_star, omega, iters):\n",
    "    x = np.copy(x0)\n",
    "    print (0, np.linalg.norm(x_star-x,np.inf))\n",
    "    for k in range(iters):\n",
    "        for i in range(np.size(x0)): \n",
    "            x[i] = x[i] + omega*(b[i] - np.dot(A[i,:i],x[:i]) - np.dot(A[i,i:],x[i:]))/A[i,i]\n",
    "        print (k+1, np.linalg.norm(x_star-x,np.inf))"
   ]
  },
  {
   "cell_type": "code",
   "execution_count": 20,
   "metadata": {},
   "outputs": [],
   "source": [
    "A = np.array([[9., -1., -1.],[-1.,10.,-1.],[-1.,-1.,15.]])\n",
    "b = np.array([7.,8.,13.])"
   ]
  },
  {
   "cell_type": "code",
   "execution_count": 21,
   "metadata": {},
   "outputs": [
    {
     "data": {
      "application/vnd.jupyter.widget-view+json": {
       "model_id": "6f4331869d764dd18dc823f418e1c017",
       "version_major": 2,
       "version_minor": 0
      },
      "text/plain": [
       "interactive(children=(IntSlider(value=0, description='iters', max=20), Output()), _dom_classes=('widget-intera…"
      ]
     },
     "metadata": {},
     "output_type": "display_data"
    }
   ],
   "source": [
    "x0 = np.array([0.,0.,0.])\n",
    "x_star = np.array([1.,1.,1.])\n",
    "omega = 1.01\n",
    "\n",
    "w = interactive(SOR, A=fixed(A), b=fixed(b), x0=fixed(x0), x_star=fixed(x_star), omega=fixed(omega), iters=widgets.IntSlider(min=0,max=20,value=0))\n",
    "display(w)"
   ]
  },
  {
   "cell_type": "code",
   "execution_count": 22,
   "metadata": {},
   "outputs": [
    {
     "data": {
      "application/vnd.jupyter.widget-view+json": {
       "model_id": "9f389d7e653946189825d1e69cf3ed5a",
       "version_major": 2,
       "version_minor": 0
      },
      "text/plain": [
       "interactive(children=(IntSlider(value=0, description='iters', max=20), Output()), _dom_classes=('widget-intera…"
      ]
     },
     "metadata": {},
     "output_type": "display_data"
    }
   ],
   "source": [
    "w = interactive(GS, A=fixed(A), b=fixed(b), x0=fixed(x0), x_star=fixed(x_star), iters=widgets.IntSlider(min=0,max=20,value=0))\n",
    "display(w)"
   ]
  },
  {
   "cell_type": "markdown",
   "metadata": {},
   "source": [
    "**Example 6**\n",
    "\\begin{equation*}\n",
    "    A = \\left[\\begin{array}{ccc} 2& -1 & 0 \\\\ -1 & 2 & -1 \\\\ 0 & -1& 2\\end{array}\\right],\\quad b = \\left[\\begin{array}{c} 1 \\\\ 0 \\\\ 1.8\\end{array}\\right],\n",
    "\\end{equation*}\n",
    "has the exact solution $x^{*} = {[1.2, 1.4, 1.6]}^T$"
   ]
  },
  {
   "cell_type": "code",
   "execution_count": 23,
   "metadata": {},
   "outputs": [
    {
     "data": {
      "application/vnd.jupyter.widget-view+json": {
       "model_id": "8750657f1fdc4d7584f96f04cf14f79a",
       "version_major": 2,
       "version_minor": 0
      },
      "text/plain": [
       "interactive(children=(IntSlider(value=0, description='iters', max=20), Output()), _dom_classes=('widget-intera…"
      ]
     },
     "metadata": {},
     "output_type": "display_data"
    }
   ],
   "source": [
    "A = np.array([[2, -1, 0],[-1, 2, -1], [0, -1, 2]])\n",
    "b = np.array([1., 0, 1.8])\n",
    "\n",
    "x0 = np.array([1.,1.,1.])\n",
    "x_star = np.array([1.2,1.4,1.6])\n",
    "omega = 1.2\n",
    "\n",
    "w = interactive(SOR, A=fixed(A), b=fixed(b), x0=fixed(x0), x_star=fixed(x_star), omega=fixed(omega), iters=widgets.IntSlider(min=0,max=20,value=0))\n",
    "display(w)"
   ]
  },
  {
   "cell_type": "code",
   "execution_count": 24,
   "metadata": {},
   "outputs": [
    {
     "data": {
      "application/vnd.jupyter.widget-view+json": {
       "model_id": "c49c848d16b347d58a13420b427811fe",
       "version_major": 2,
       "version_minor": 0
      },
      "text/plain": [
       "interactive(children=(IntSlider(value=0, description='iters', max=20), Output()), _dom_classes=('widget-intera…"
      ]
     },
     "metadata": {},
     "output_type": "display_data"
    }
   ],
   "source": [
    "w = interactive(GS, A=fixed(A), b=fixed(b), x0=fixed(x0), x_star=fixed(x_star), iters=widgets.IntSlider(min=0,max=20,value=0))\n",
    "display(w)"
   ]
  },
  {
   "cell_type": "code",
   "execution_count": 25,
   "metadata": {},
   "outputs": [
    {
     "name": "stdout",
     "output_type": "stream",
     "text": [
      "[9.74407946e-03 5.97674726e-03 3.40178202e-03 1.75103265e-03\n",
      " 7.81250000e-04 2.95780635e-04 7.68649064e-05 7.55815494e-06\n",
      " 8.95664782e-08 8.45884563e-07 6.02114392e-06 1.70698528e-05\n",
      " 1.20163334e-04 4.60559853e-04 1.22304559e-03 2.67595099e-03\n",
      " 5.18204385e-03 9.23123417e-03 1.54954228e-02 2.49198480e-02\n",
      " 3.88728519e-02]\n"
     ]
    },
    {
     "data": {
      "text/plain": [
       "[<matplotlib.lines.Line2D at 0x7fc70e0cc610>]"
      ]
     },
     "execution_count": 25,
     "metadata": {},
     "output_type": "execute_result"
    },
    {
     "data": {
      "image/png": "[encoded data removed]",
      "text/plain": [
       "<Figure size 432x288 with 1 Axes>"
      ]
     },
     "metadata": {
      "image/png": {
       "height": 246,
       "width": 366
      },
      "needs_background": "light"
     },
     "output_type": "display_data"
    }
   ],
   "source": [
    "num = 21\n",
    "omega = np.linspace(0.8, 1.8, num)\n",
    "err1 = np.zeros(num)\n",
    "for i in range(num):\n",
    "    err1[i] = SOR2(A, b, x0, x_star, omega[i], 10)\n",
    "print (err1)\n",
    "plt.plot(omega, np.log10(err1), 'o')"
   ]
  },
  {
   "cell_type": "markdown",
   "metadata": {},
   "source": [
    "**Example 7**\n",
    "\\begin{equation*}\n",
    "    A = \\left[\\begin{array}{cccc} -4& 1 & 1 & 1 \\\\ 1 & -4 & 1 & 1 \\\\ 1 & 1& -4 &1 \\\\ 1 & 1 &1 & -4\\end{array}\\right],\\quad b = \\left[\\begin{array}{c} 1 \\\\ 1 \\\\ 1 \\\\ 1\\end{array}\\right],\n",
    "\\end{equation*}\n",
    "has the exact solution $x^{*} = {[-1, -1, -1, -1]}^T$"
   ]
  },
  {
   "cell_type": "code",
   "execution_count": 26,
   "metadata": {},
   "outputs": [
    {
     "data": {
      "application/vnd.jupyter.widget-view+json": {
       "model_id": "bceec2ff49ef4e5f888fcb709b9597fb",
       "version_major": 2,
       "version_minor": 0
      },
      "text/plain": [
       "interactive(children=(IntSlider(value=0, description='iters', max=20), Output()), _dom_classes=('widget-intera…"
      ]
     },
     "metadata": {},
     "output_type": "display_data"
    }
   ],
   "source": [
    "A = np.array([[-4, 1, 1, 1],[1, -4, 1, 1], [1, 1, -4, 1], [1, 1, 1, -4]])\n",
    "b = np.array([1, 1, 1, 1])\n",
    "\n",
    "x0 = np.zeros(np.size(b))\n",
    "x_star = np.array([-1,-1,-1,-1])\n",
    "omega = 1.25\n",
    "\n",
    "w = interactive(SOR, A=fixed(A), b=fixed(b), x0=fixed(x0), x_star=fixed(x_star), omega=fixed(omega), iters=widgets.IntSlider(min=0,max=20,value=0))\n",
    "display(w)"
   ]
  },
  {
   "cell_type": "code",
   "execution_count": 27,
   "metadata": {},
   "outputs": [
    {
     "data": {
      "application/vnd.jupyter.widget-view+json": {
       "model_id": "ab5adb9873cd4a67b0c358d9db6b5372",
       "version_major": 2,
       "version_minor": 0
      },
      "text/plain": [
       "interactive(children=(IntSlider(value=0, description='iters'), Output()), _dom_classes=('widget-interact',))"
      ]
     },
     "metadata": {},
     "output_type": "display_data"
    }
   ],
   "source": [
    "w = interactive(GS, A=fixed(A), b=fixed(b), x0=fixed(x0), x_star=fixed(x_star), iters=widgets.IntSlider(min=0,max=100,value=0))\n",
    "display(w)"
   ]
  },
  {
   "cell_type": "code",
   "execution_count": 28,
   "metadata": {},
   "outputs": [
    {
     "name": "stdout",
     "output_type": "stream",
     "text": [
      "[3.61803633e-02 2.42972865e-02 1.54786273e-02 9.21840054e-03\n",
      " 5.02185062e-03 2.41672275e-03 9.66046696e-04 2.82133665e-04\n",
      " 4.11422263e-05 2.97109833e-06 8.21084855e-06 3.41615422e-05\n",
      " 7.92225581e-05 2.98508851e-04 7.72804030e-04 1.47092104e-03\n",
      " 2.01360656e-03 6.50361476e-03 1.75478864e-02 4.14976604e-02\n",
      " 8.96585986e-02]\n"
     ]
    },
    {
     "data": {
      "text/plain": [
       "[<matplotlib.lines.Line2D at 0x7fc70e13ba50>]"
      ]
     },
     "execution_count": 28,
     "metadata": {},
     "output_type": "execute_result"
    },
    {
     "data": {
      "image/png": "[encoded data removed]",
      "text/plain": [
       "<Figure size 432x288 with 1 Axes>"
      ]
     },
     "metadata": {
      "image/png": {
       "height": 246,
       "width": 366
      },
      "needs_background": "light"
     },
     "output_type": "display_data"
    }
   ],
   "source": [
    "num = 21\n",
    "omega = np.linspace(0.8, 1.8, num)\n",
    "err1 = np.zeros(num)\n",
    "for i in range(num):\n",
    "    err1[i] = SOR2(A, b, x0, x_star, omega[i], 10)\n",
    "print (err1)\n",
    "plt.plot(omega, np.log10(err1), 'o')"
   ]
  },
  {
   "cell_type": "markdown",
   "metadata": {},
   "source": [
    "**Example 8**\n",
    "\\begin{equation*}\n",
    "    A=\\begin{pmatrix}{3} & {-1} & {0} & 0 & 0 & \\frac{1}{2}  \\\\ {-1} & {3} & {-1} & {0} & \\frac{1}{2} & 0\\\\ {0} & {-1} & {3} & {-1} & {0} & 0 \\\\ 0& {0} & {-1} & {3} & {-1} & {0} \\\\ {0} & \\frac{1}{2} & {0} & {-1} & {3} & {-1} \\\\ \\frac{1}{2} & {0} & 0 & 0 & {-1} & {3}\\end{pmatrix},\\,\\,b=\\begin{pmatrix}\\frac{5}{2} \\\\ \\frac{3}{2} \\\\ 1 \\\\ 1 \\\\ \\frac{3}{2}    \\\\ \\frac{5}{2}  \\end{pmatrix}\n",
    "\\end{equation*}\n",
    "has the exact solution $x^{*} = {[1, 1, 1, 1, 1, 1]}^T$"
   ]
  },
  {
   "cell_type": "code",
   "execution_count": 29,
   "metadata": {},
   "outputs": [
    {
     "name": "stdout",
     "output_type": "stream",
     "text": [
      "[[ 3.  -1.   0.   0.   0.  -0.5]\n",
      " [-1.   3.  -1.   0.  -0.5  0. ]\n",
      " [ 0.  -1.   3.  -1.   0.   0. ]\n",
      " [ 0.   0.  -1.   3.  -1.   0. ]\n",
      " [ 0.  -0.5  0.  -1.   3.  -1. ]\n",
      " [-0.5  0.   0.   0.  -1.   3. ]]\n"
     ]
    },
    {
     "data": {
      "application/vnd.jupyter.widget-view+json": {
       "model_id": "efc8863d7a204786b81de8fb1b86678e",
       "version_major": 2,
       "version_minor": 0
      },
      "text/plain": [
       "interactive(children=(IntSlider(value=0, description='iters', max=20), Output()), _dom_classes=('widget-intera…"
      ]
     },
     "metadata": {},
     "output_type": "display_data"
    }
   ],
   "source": [
    "n0 = 6\n",
    "A = 3*np.eye(n0) - np.diag(np.ones(n0-1),-1) - np.diag(np.ones(n0-1),+1)\n",
    "for i in range(n0):\n",
    "    if (abs(n0-1 - 2*i) > 1):\n",
    "        A[i, n0-1-i] = - 1/2\n",
    "print (A)\n",
    "x_star = np.ones(n0)\n",
    "b = np.dot(A, x_star)\n",
    "\n",
    "x0 = np.zeros(np.size(b))\n",
    "omega = 1.25\n",
    "\n",
    "w = interactive(SOR, A=fixed(A), b=fixed(b), x0=fixed(x0), x_star=fixed(x_star), omega=fixed(omega), iters=widgets.IntSlider(min=0,max=20,value=0))\n",
    "display(w)"
   ]
  },
  {
   "cell_type": "code",
   "execution_count": 30,
   "metadata": {},
   "outputs": [
    {
     "name": "stdout",
     "output_type": "stream",
     "text": [
      "[1.80518500e-02 1.09619670e-02 6.21887538e-03 3.23402618e-03\n",
      " 1.49846477e-03 5.90710685e-04 1.81660127e-04 3.52836259e-05\n",
      " 1.45462707e-05 4.93603574e-05 1.54153790e-04 3.87002370e-04\n",
      " 8.24122600e-04 1.52005198e-03 2.48178322e-03 5.69090046e-03\n",
      " 1.18481312e-02 2.27081117e-02 4.04944780e-02 6.76650388e-02\n",
      " 1.06290000e-01]\n"
     ]
    },
    {
     "data": {
      "text/plain": [
       "[<matplotlib.lines.Line2D at 0x7fc70e6b4510>]"
      ]
     },
     "execution_count": 30,
     "metadata": {},
     "output_type": "execute_result"
    },
    {
     "data": {
      "image/png": "[encoded data removed]",
      "text/plain": [
       "<Figure size 432x288 with 1 Axes>"
      ]
     },
     "metadata": {
      "image/png": {
       "height": 246,
       "width": 376
      },
      "needs_background": "light"
     },
     "output_type": "display_data"
    }
   ],
   "source": [
    "num = 21\n",
    "omega = np.linspace(0.8, 1.8, num)\n",
    "err1 = np.zeros(num)\n",
    "for i in range(num):\n",
    "    err1[i] = SOR2(A, b, x0, x_star, omega[i], 10)\n",
    "print (err1)\n",
    "plt.plot(omega, np.log10(err1), 'o')"
   ]
  },
  {
   "cell_type": "code",
   "execution_count": 31,
   "metadata": {},
   "outputs": [
    {
     "data": {
      "application/vnd.jupyter.widget-view+json": {
       "model_id": "235cf71c7e954f948721d81d3fc67626",
       "version_major": 2,
       "version_minor": 0
      },
      "text/plain": [
       "interactive(children=(IntSlider(value=0, description='iters'), Output()), _dom_classes=('widget-interact',))"
      ]
     },
     "metadata": {},
     "output_type": "display_data"
    }
   ],
   "source": [
    "w = interactive(Jacobi, A=fixed(A), b=fixed(b), x0=fixed(x0), x_star=fixed(x_star), iters=widgets.IntSlider(min=0,max=100,value=0))\n",
    "display(w)"
   ]
  },
  {
   "cell_type": "markdown",
   "metadata": {},
   "source": [
    "## Sparse Matrix Computations\n",
    "A coefficient matrix is called sparse if many of the matrix entries are known to be zero. Often, of the $n^2$ eligible entries in a sparse matrix, only $\\mathcal{O}(n)$ of them are nonzero. A full matrix is the opposite, where few entries may be assumed to be zero. "
   ]
  },
  {
   "cell_type": "markdown",
   "metadata": {},
   "source": [
    "**Example 9**\n",
    "Consider the $n$-equation version of\n",
    "\\begin{equation*}\n",
    "    A=\\begin{pmatrix}{3} & {-1} & {0} & 0 & 0 & \\frac{1}{2}  \\\\ {-1} & {3} & {-1} & {0} & \\frac{1}{2} & 0\\\\ {0} & {-1} & {3} & {-1} & {0} & 0 \\\\ 0& {0} & {-1} & {3} & {-1} & {0} \\\\ {0} & \\frac{1}{2} & {0} & {-1} & {3} & {-1} \\\\ \\frac{1}{2} & {0} & 0 & 0 & {-1} & {3}\\end{pmatrix}, \n",
    "\\end{equation*}\n",
    "has the exact solution $x^{*} = {[1, 1,\\ldots, 1]}^T$ and $b = A x^{*}$"
   ]
  },
  {
   "cell_type": "markdown",
   "metadata": {},
   "source": [
    "* First, let us have a look about the matrix $A$"
   ]
  },
  {
   "cell_type": "code",
   "execution_count": 32,
   "metadata": {},
   "outputs": [
    {
     "data": {
      "text/plain": [
       "<matplotlib.image.AxesImage at 0x7fc70ed225d0>"
      ]
     },
     "execution_count": 32,
     "metadata": {},
     "output_type": "execute_result"
    },
    {
     "data": {
      "image/png": "[encoded data removed]",
      "text/plain": [
       "<Figure size 432x288 with 1 Axes>"
      ]
     },
     "metadata": {
      "image/png": {
       "height": 249,
       "width": 243
      },
      "needs_background": "light"
     },
     "output_type": "display_data"
    }
   ],
   "source": [
    "n0 = 10\n",
    "A = 3*np.eye(n0) - np.diag(np.ones(n0-1),-1) - np.diag(np.ones(n0-1),+1)\n",
    "for i in range(n0):\n",
    "    if (abs(n0-1 - 2*i) > 1):\n",
    "        A[i, n0-1-i] = - 1/2\n",
    "plt.spy(A)\n",
    "#plt.show()"
   ]
  },
  {
   "cell_type": "markdown",
   "metadata": {},
   "source": [
    "* How about the $PA = LU$ for the above matrix $A$?\n",
    "* Are the $L$ and $U$ matrices still sparse? "
   ]
  },
  {
   "cell_type": "code",
   "execution_count": 33,
   "metadata": {},
   "outputs": [],
   "source": [
    "import scipy.linalg\n",
    "#P, L, U = scipy.linalg.lu(A)\n",
    "\n",
    "#plt.spy(L)\n",
    "#plt.show()"
   ]
  },
  {
   "cell_type": "markdown",
   "metadata": {},
   "source": [
    "Gaussian elimination applied to a sparse matrix usually causes **fill-in**, where the coefficient matrix changes from sparse to full due to the necessary row operations. For this reason, the efficiency of Gaussian elimination and its $PA = LU$ implementation become questionable for sparse matrices, leaving iterative methods as a feasible alternative."
   ]
  },
  {
   "cell_type": "markdown",
   "metadata": {},
   "source": [
    "* Let us solve it with SOR method"
   ]
  },
  {
   "cell_type": "code",
   "execution_count": 34,
   "metadata": {},
   "outputs": [
    {
     "data": {
      "application/vnd.jupyter.widget-view+json": {
       "model_id": "d4a77019e3044443adf2dc3ad95bb9e7",
       "version_major": 2,
       "version_minor": 0
      },
      "text/plain": [
       "interactive(children=(IntSlider(value=0, description='iters', max=200, step=10), Output()), _dom_classes=('wid…"
      ]
     },
     "metadata": {},
     "output_type": "display_data"
    }
   ],
   "source": [
    "x_star = np.ones(n0)\n",
    "b = np.dot(A, x_star)\n",
    "\n",
    "x0 = np.zeros(np.size(b))\n",
    "omega = 1.25\n",
    "w = interactive(SOR3, A=fixed(A), b=fixed(b), x0=fixed(x0), x_star=fixed(x_star), omega=fixed(omega), iters=widgets.IntSlider(min=0,max=200,value=0, step=10))\n",
    "display(w)"
   ]
  },
  {
   "cell_type": "markdown",
   "metadata": {},
   "source": [
    "## Application for Solving Laplace's Equation\n",
    "\n",
    "### Laplace's equation\n",
    "Consider the Laplace's equation given as \n",
    "$$\n",
    "    \\nabla^2 u = 0,\\quad\\quad (x,y) \\in D,\n",
    "$$\n",
    "where $\\nabla^2 = \\frac{\\partial^2}{\\partial x^2} + \\frac{\\partial^2}{\\partial y^2}$, and the boundary conditions are given as\n",
    "![Boundary Conditions](img/BCs.png)"
   ]
  },
  {
   "cell_type": "markdown",
   "metadata": {},
   "source": [
    "### Finite Difference Approximation\n",
    "Here, we use a rectangular grid $(x_i,y_j)$, where\n",
    "$$\n",
    "    x_i = i\\Delta x, \\,\\,\\text{for }\\, i = 0,1,\\ldots,N+1;\\quad y_j = j\\Delta y,\\,\\,\\text{for }\\, j = 0,1,\\ldots,M+1.\n",
    "$$\n",
    "Five-points scheme:\n",
    "$$\n",
    "    -\\lambda^2 u_{i+1,j} + 2(1+\\lambda^2)u_{i,j} - \\lambda^2u_{i-1,j} - u_{i,j+1} - u_{i,j-1} = 0,\\quad\\text{for}\\,\\, i = 1,\\ldots,N,\\,\\, j = 1,\\ldots,M，\n",
    "$$\n",
    "where $\\lambda = \\frac{\\Delta y}{\\Delta x}$. The boundary conditions are \n",
    "- $x = 0: u_{0,j} = g_L(y_j), \\quad\\text{for }\\, j = 1,\\ldots,M$,\n",
    "- $x = a: u_{N+1,j} = g_R(y_j), \\quad\\text{for }\\, j = 1,\\ldots,M$,\n",
    "- $y = 0: u_{i,0} = g_B(x_i), \\quad\\text{for }\\, i = 1,\\ldots,N$,\n",
    "- $y = b: u_{i,M+1} = g_T(x_i), \\quad\\text{for }\\, i = 1,\\ldots,N$."
   ]
  },
  {
   "cell_type": "code",
   "execution_count": 35,
   "metadata": {},
   "outputs": [],
   "source": [
    "def generate_TD(N, dx, dy):\n",
    "    T = np.zeros([N,N])\n",
    "    a = - (dy/dx)**2\n",
    "    b = 2*(1 - a)\n",
    "    for i in range(N):\n",
    "        T[i,i] += b\n",
    "        if (i < N-1):\n",
    "            T[i,i+1] += a\n",
    "        if (i > 0):\n",
    "            T[i,i-1] += a\n",
    "    D = -np.identity(N)\n",
    "    return T, D\n",
    "\n",
    "def assemble_matrix_A(dx, dy, N, M):\n",
    "    T, D = generate_TD(N, dx, dy)\n",
    "    A = np.zeros([N*M, N*M])\n",
    "    for j in range(M):\n",
    "        A[j*N:(j+1)*N,j*N:(j+1)*N] += T\n",
    "        if (j < M-1):\n",
    "            A[j*N:(j+1)*N,(j+1)*N:(j+2)*N] += D\n",
    "        if (j > 0):\n",
    "            A[j*N:(j+1)*N,(j-1)*N:j*N] += D\n",
    "    return A"
   ]
  },
  {
   "cell_type": "code",
   "execution_count": 36,
   "metadata": {},
   "outputs": [
    {
     "data": {
      "image/png": "[encoded data removed]",
      "text/plain": [
       "<Figure size 432x288 with 1 Axes>"
      ]
     },
     "metadata": {
      "image/png": {
       "height": 249,
       "width": 248
      },
      "needs_background": "light"
     },
     "output_type": "display_data"
    }
   ],
   "source": [
    "N = 4\n",
    "M = 4\n",
    "dx = 1./(N+1)\n",
    "dy = 1./(M+1)\n",
    "T, D = generate_TD(N, dx, dy)\n",
    "#print (T)\n",
    "A = assemble_matrix_A(dx, dy, N, M)\n",
    "#print (A)\n",
    "plt.spy(A)\n",
    "plt.show()"
   ]
  },
  {
   "cell_type": "code",
   "execution_count": 37,
   "metadata": {},
   "outputs": [],
   "source": [
    "# Set boundary conditions\n",
    "def gL(y):\n",
    "    return 0.\n",
    "\n",
    "def gR(y):\n",
    "    return 0.\n",
    "\n",
    "def gB(x):\n",
    "    return 0.\n",
    "\n",
    "def gT(x):\n",
    "    return 1.\n",
    "    #return x*(1-x)*(4./5-x)*np.exp(6*x)\n",
    "    \n",
    "def assemble_vector_b(x, y, dx, dy, N, M, gL, gR, gB, gT):\n",
    "    b = np.zeros(N*M)\n",
    "    # Left BCs\n",
    "    for j in range(M):\n",
    "        b[(j-1)*N] += (dy/dx)**2*gL(y[j+1]) \n",
    "    \n",
    "    # Right BCs\n",
    "    # b +=\n",
    "    \n",
    "    # Bottom BCs\n",
    "    # b +=\n",
    "    \n",
    "    # Top BCs:\n",
    "    for i in range(N):\n",
    "        b[(M-1)*N+i] += gT(x[i+1])\n",
    "    return b"
   ]
  },
  {
   "cell_type": "code",
   "execution_count": 38,
   "metadata": {},
   "outputs": [],
   "source": [
    "from mpl_toolkits import mplot3d\n",
    "from mpl_toolkits.mplot3d import axes3d"
   ]
  },
  {
   "cell_type": "code",
   "execution_count": 39,
   "metadata": {},
   "outputs": [
    {
     "data": {
      "image/png": "[encoded data removed]",
      "text/plain": [
       "<Figure size 432x288 with 1 Axes>"
      ]
     },
     "metadata": {
      "image/png": {
       "height": 253,
       "width": 248
      },
      "needs_background": "light"
     },
     "output_type": "display_data"
    }
   ],
   "source": [
    "def Laplace_solver(a, b, N, M, gL, gR, gB, gT):\n",
    "    dx = b/(M+1)\n",
    "    dy = a/(N+1)\n",
    "    x = np.linspace(0, a, N+2)\n",
    "    y = np.linspace(0, b, M+2)\n",
    "    \n",
    "    A = assemble_matrix_A(dx, dy, N, M)\n",
    "    b = assemble_vector_b(x, y, dx, dy, N, M, gL, gR, gB, gT)\n",
    "    \n",
    "    v = np.linalg.solve(A,b)\n",
    "    \n",
    "    # add boundary points + plotting\n",
    "    u = np.zeros([(N+2),(M+2)])\n",
    "    #u[1:(N+1),1:(M+1)] = np.reshape(v, (N, M))\n",
    "    # Top BCs\n",
    "    for i in range(N+2):\n",
    "        u[i,M+1] = gT(x[i])\n",
    "    u = np.transpose(u)\n",
    "    u[1:(M+1),1:(N+1)] = np.reshape(v, (M, N))\n",
    "\n",
    "    \n",
    "    X, Y = np.meshgrid(x, y)\n",
    "    #Z = np.sin(2*np.pi*X)*np.sin(2*np.pi*Y)\n",
    "\n",
    "    fig = plt.figure()\n",
    "    #ax = plt.axes(projection='3d')\n",
    "    ax = fig.add_subplot(1, 1, 1, projection='3d')\n",
    "\n",
    "    ax.plot_surface(X, Y, u, rstride=1, cstride=1,\n",
    "                    cmap='viridis', edgecolor='none')\n",
    "    ax.set_title('surface')\n",
    "    plt.show()\n",
    "    \n",
    "Laplace_solver(1, 1, 40, 40, gL, gR, gB, gT)"
   ]
  },
  {
   "cell_type": "code",
   "execution_count": 40,
   "metadata": {},
   "outputs": [],
   "source": [
    "def Jacobi_tol(A, b, x0, tol):\n",
    "    x_old = np.copy(x0)\n",
    "    x_new = np.zeros(np.size(x0))\n",
    "    for i in range(np.size(x0)): \n",
    "        x_new[i] = (b[i] - np.dot(A[i,:i],x_old[:i]) - np.dot(A[i,i+1:],x_old[i+1:]))/A[i,i]\n",
    "    iters = 1\n",
    "    while ((np.linalg.norm(x_new-x_old,np.inf)) > tol):\n",
    "        x_old = np.copy(x_new)\n",
    "        for i in range(np.size(x0)): \n",
    "            x_new[i] = (b[i] - np.dot(A[i,:i],x_old[:i]) - np.dot(A[i,i+1:],x_old[i+1:]))/A[i,i]\n",
    "        iters += 1\n",
    "    return x_new, iters"
   ]
  },
  {
   "cell_type": "code",
   "execution_count": 41,
   "metadata": {},
   "outputs": [],
   "source": [
    "def GS_tol(A, b, x0, tol):\n",
    "    x_old = np.copy(x0)\n",
    "    x = np.copy(x0)\n",
    "    for i in range(np.size(x0)): \n",
    "        x[i] = (b[i] - np.dot(A[i,:i],x[:i]) - np.dot(A[i,i+1:],x[i+1:]))/A[i,i]\n",
    "    iters = 1\n",
    "    while ((np.linalg.norm(x-x_old,np.inf)) > tol):\n",
    "        x_old = np.copy(x)\n",
    "        for i in range(np.size(x0)): \n",
    "            x[i] = (b[i] - np.dot(A[i,:i],x[:i]) - np.dot(A[i,i+1:],x[i+1:]))/A[i,i]\n",
    "        iters += 1\n",
    "    return x, iters"
   ]
  },
  {
   "cell_type": "code",
   "execution_count": 42,
   "metadata": {},
   "outputs": [],
   "source": [
    "def SOR_tol(A, b, x0, omega, tol):\n",
    "    x_old = np.copy(x0)\n",
    "    x = np.copy(x0)\n",
    "    for i in range(np.size(x0)): \n",
    "            x[i] = x[i] + omega*(b[i] - np.dot(A[i,:i],x[:i]) - np.dot(A[i,i:],x[i:]))/A[i,i]\n",
    "    iters = 1\n",
    "    while ((np.linalg.norm(x-x_old,np.inf)) > tol):\n",
    "        x_old = np.copy(x)\n",
    "        for i in range(np.size(x0)): \n",
    "            x[i] = x[i] + omega*(b[i] - np.dot(A[i,:i],x[:i]) - np.dot(A[i,i:],x[i:]))/A[i,i]\n",
    "        iters += 1\n",
    "    return x, iters"
   ]
  },
  {
   "cell_type": "code",
   "execution_count": 43,
   "metadata": {},
   "outputs": [],
   "source": [
    "def CG_tol(A, b, x0, x_star, tol):\n",
    "    r_new = b - np.dot(A, x0) \n",
    "    r_old = np.copy(np.size(x0))\n",
    "    d_old = np.zeros(np.size(x0))\n",
    "    x = np.copy(x0)\n",
    "    iters = 0\n",
    "    while ((np.linalg.norm(x-x_star,np.inf)) > tol):\n",
    "        if (iters == 0):\n",
    "            d_new = np.copy(r_new)\n",
    "        else:\n",
    "            beta = np.dot(r_new,r_new)/np.dot(r_old,r_old)\n",
    "            d_new = r_new + beta*d_old\n",
    "        Ad = np.dot(A, d_new)\n",
    "        alpha = np.dot(r_new,r_new)/np.dot(d_new,Ad)\n",
    "        x += alpha*d_new\n",
    "        d_old = d_new\n",
    "        r_old = r_new\n",
    "        r_new = r_old - alpha*Ad\n",
    "        iters += 1\n",
    "    return x, iters"
   ]
  },
  {
   "cell_type": "code",
   "execution_count": 44,
   "metadata": {},
   "outputs": [],
   "source": [
    "def Iterative_solver(a, b, N, M, gL, gR, gB, gT, tol):\n",
    "    dx = b/(M+1)\n",
    "    dy = a/(N+1)\n",
    "    x = np.linspace(0, a, N+2)\n",
    "    y = np.linspace(0, b, M+2)\n",
    "    \n",
    "    A = assemble_matrix_A(dx, dy, N, M)\n",
    "    b = assemble_vector_b(x, y, dx, dy, N, M, gL, gR, gB, gT)\n",
    "    \n",
    "    v = np.linalg.solve(A,b)\n",
    "    #tol = 1.e-8\n",
    "    v0 = np.zeros(np.size(b))\n",
    "    #v_J, iters = Jacobi_tol(A, b, v0, tol)\n",
    "    #print (\"Jacobi Method:  %4d    %7.2e\" %(iters, np.linalg.norm(v - v_J, np.inf)))\n",
    "    \n",
    "    #v_GS, iters = GS_tol(A, b, v0, tol)\n",
    "    #print (\"Gauss Seidel :  %4d    %7.2e\" %(iters, np.linalg.norm(v - v_GS, np.inf)))\n",
    "    \n",
    "    omega = 2./(1 + np.sin(np.pi*dx))\n",
    "    print (\"omega = \", omega)\n",
    "    v_SOR, iters = SOR_tol(A, b, v0, omega, tol)\n",
    "    print (\"SOR Method   :  %4d    %7.2e\" %(iters, np.linalg.norm(v - v_SOR, np.inf)))\n",
    "    \n",
    "    v_CG, iters = CG_tol(A, b, v0, v, tol)\n",
    "    print (\"CG Method    :  %4d    %7.2e\" %(iters, np.linalg.norm(v - v_CG, np.inf)))"
   ]
  },
  {
   "cell_type": "code",
   "execution_count": 45,
   "metadata": {},
   "outputs": [
    {
     "name": "stdout",
     "output_type": "stream",
     "text": [
      "omega =  1.7405800107385732\n",
      "SOR Method   :    44    1.03e-04\n",
      "CG Method    :    37    8.38e-05\n"
     ]
    }
   ],
   "source": [
    "Iterative_solver(1, 1, 20, 20, gL, gR, gB, gT, 1.e-4)"
   ]
  },
  {
   "cell_type": "code",
   "execution_count": null,
   "metadata": {},
   "outputs": [],
   "source": []
  }
 ],
 "metadata": {
  "kernelspec": {
   "display_name": "Python 3",
   "language": "python",
   "name": "python3"
  },
  "language_info": {
   "codemirror_mode": {
    "name": "ipython",
    "version": 3
   },
   "file_extension": ".py",
   "mimetype": "text/x-python",
   "name": "python",
   "nbconvert_exporter": "python",
   "pygments_lexer": "ipython3",
   "version": "3.7.5"
  },
  "toc": {
   "base_numbering": 1,
   "nav_menu": {},
   "number_sections": true,
   "sideBar": true,
   "skip_h1_title": false,
   "title_cell": "Table of Contents",
   "title_sidebar": "Contents",
   "toc_cell": false,
   "toc_position": {},
   "toc_section_display": true,
   "toc_window_display": false
  }
 },
 "nbformat": 4,
 "nbformat_minor": 4
}
